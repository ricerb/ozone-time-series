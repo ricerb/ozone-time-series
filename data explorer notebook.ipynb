{
 "cells": [
  {
   "cell_type": "code",
   "execution_count": 1,
   "metadata": {},
   "outputs": [],
   "source": [
    "#load python modules\n",
    "import pandas as pd\n",
    "import qgrid\n",
    "import plotly.express as px\n",
    "import plotly.graph_objects as go\n",
    "\n",
    "#change plotly settings to display in browser instead of notebook (plot will open in new tab)\n",
    "import plotly.io as pio\n",
    "pio.renderers.default = 'browser'"
   ]
  },
  {
   "cell_type": "code",
   "execution_count": 2,
   "metadata": {},
   "outputs": [],
   "source": [
    "#read in data (and rename time column)\n",
    "df = pd.read_pickle('FERF_ozone_preprocessed.pkl').rename(columns = {'datetime_formatted':'time'})"
   ]
  },
  {
   "cell_type": "code",
   "execution_count": 3,
   "metadata": {},
   "outputs": [
    {
     "data": {
      "application/vnd.jupyter.widget-view+json": {
       "model_id": "86d69dca5ead42b6b316dff31716b182",
       "version_major": 2,
       "version_minor": 0
      },
      "text/plain": [
       "QgridWidget(grid_options={'fullWidthRows': True, 'syncColumnCellResize': True, 'forceFitColumns': True, 'defau…"
      ]
     },
     "metadata": {},
     "output_type": "display_data"
    }
   ],
   "source": [
    "#make and display filterable dataframe widget\n",
    "#run this cell once and it will automatically update the filtered df as you change it\n",
    "qgrid_widget = qgrid.show_grid(df, show_toolbar=True)\n",
    "qgrid_widget"
   ]
  },
  {
   "cell_type": "code",
   "execution_count": 6,
   "metadata": {},
   "outputs": [],
   "source": [
    "#get modified dataframe and display it using plotly\n",
    "\n",
    "fdf = qgrid_widget.get_changed_df() #turn the filtered df back into pandas df\n",
    "fdf = fdf.sort_values(by = 'time')\n",
    "\n",
    "fdf2 = fdf[fdf['n'] < 5] #subset of dataframe to highlight with added scatterplot points\n",
    "\n",
    "#create plotly plot object\n",
    "plot = px.line(fdf, x = 'time', y = 'actual', line_group='ch', color='ch',  hover_data=['ch','actual', 'request','stdev', 'n'], hover_name=fdf.index)\n",
    "\n",
    "plot2 = px.scatter(fdf2, x = 'time', y = 'actual') #create scatterplot of subsetted data\n",
    "\n",
    "plot.add_trace(plot2.data[0]) #add the scatterplot to the line plot\n",
    "\n",
    "plot.show()"
   ]
  },
  {
   "cell_type": "code",
   "execution_count": null,
   "metadata": {},
   "outputs": [],
   "source": []
  }
 ],
 "metadata": {
  "kernelspec": {
   "display_name": "Python 3",
   "language": "python",
   "name": "python3"
  },
  "language_info": {
   "codemirror_mode": {
    "name": "ipython",
    "version": 3
   },
   "file_extension": ".py",
   "mimetype": "text/x-python",
   "name": "python",
   "nbconvert_exporter": "python",
   "pygments_lexer": "ipython3",
   "version": "3.6.12"
  }
 },
 "nbformat": 4,
 "nbformat_minor": 4
}
